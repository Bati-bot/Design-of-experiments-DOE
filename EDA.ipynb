{
 "cells": [
  {
   "cell_type": "code",
   "execution_count": 1,
   "metadata": {},
   "outputs": [],
   "source": [
    "from __future__ import annotations\n",
    "from IPython import get_ipython\n",
    "import os\n",
    "\n",
    "import numpy as np\n",
    "import matplotlib.pyplot as plt\n",
    "import matplotlib.dates as mdates\n",
    "import plotly.express as px\n",
    "import pandas as pd\n",
    "import seaborn as sns\n",
    "get_ipython().run_line_magic('matplotlib', 'inline')\n",
    "\n",
    "from statsmodels.graphics.tsaplots import plot_acf\n"
   ]
  },
  {
   "cell_type": "code",
   "execution_count": 21,
   "metadata": {},
   "outputs": [
    {
     "data": {
      "text/html": [
       "<div>\n",
       "<style scoped>\n",
       "    .dataframe tbody tr th:only-of-type {\n",
       "        vertical-align: middle;\n",
       "    }\n",
       "\n",
       "    .dataframe tbody tr th {\n",
       "        vertical-align: top;\n",
       "    }\n",
       "\n",
       "    .dataframe thead th {\n",
       "        text-align: right;\n",
       "    }\n",
       "</style>\n",
       "<table border=\"1\" class=\"dataframe\">\n",
       "  <thead>\n",
       "    <tr style=\"text-align: right;\">\n",
       "      <th></th>\n",
       "      <th>event_time</th>\n",
       "      <th>product_id</th>\n",
       "      <th>category_id</th>\n",
       "      <th>category_code</th>\n",
       "      <th>brand</th>\n",
       "      <th>price</th>\n",
       "      <th>user_id</th>\n",
       "      <th>user_session</th>\n",
       "      <th>time</th>\n",
       "      <th>date</th>\n",
       "      <th>sales</th>\n",
       "      <th>event_type_cart</th>\n",
       "      <th>event_type_purchase</th>\n",
       "      <th>event_type_remove_from_cart</th>\n",
       "      <th>event_type_view</th>\n",
       "      <th>event_type</th>\n",
       "    </tr>\n",
       "  </thead>\n",
       "  <tbody>\n",
       "    <tr>\n",
       "      <th>0</th>\n",
       "      <td>2019-10-01 00:00:00 UTC</td>\n",
       "      <td>5773203</td>\n",
       "      <td>1487580005134238553</td>\n",
       "      <td>NaN</td>\n",
       "      <td>runail</td>\n",
       "      <td>2.62</td>\n",
       "      <td>463240011</td>\n",
       "      <td>26dd6e6e-4dac-4778-8d2c-92e149dab885</td>\n",
       "      <td>2019-10-01 00:00:00+00:00</td>\n",
       "      <td>2019-10-01</td>\n",
       "      <td>0.0</td>\n",
       "      <td>1.0</td>\n",
       "      <td>0.0</td>\n",
       "      <td>0.0</td>\n",
       "      <td>0.0</td>\n",
       "      <td>event_type_cart</td>\n",
       "    </tr>\n",
       "    <tr>\n",
       "      <th>1</th>\n",
       "      <td>2019-10-01 00:00:03 UTC</td>\n",
       "      <td>5773353</td>\n",
       "      <td>1487580005134238553</td>\n",
       "      <td>NaN</td>\n",
       "      <td>runail</td>\n",
       "      <td>2.62</td>\n",
       "      <td>463240011</td>\n",
       "      <td>26dd6e6e-4dac-4778-8d2c-92e149dab885</td>\n",
       "      <td>2019-10-01 00:00:03+00:00</td>\n",
       "      <td>2019-10-01</td>\n",
       "      <td>0.0</td>\n",
       "      <td>1.0</td>\n",
       "      <td>0.0</td>\n",
       "      <td>0.0</td>\n",
       "      <td>0.0</td>\n",
       "      <td>event_type_cart</td>\n",
       "    </tr>\n",
       "    <tr>\n",
       "      <th>2</th>\n",
       "      <td>2019-10-01 00:00:07 UTC</td>\n",
       "      <td>5881589</td>\n",
       "      <td>2151191071051219817</td>\n",
       "      <td>NaN</td>\n",
       "      <td>lovely</td>\n",
       "      <td>13.48</td>\n",
       "      <td>429681830</td>\n",
       "      <td>49e8d843-adf3-428b-a2c3-fe8bc6a307c9</td>\n",
       "      <td>2019-10-01 00:00:07+00:00</td>\n",
       "      <td>2019-10-01</td>\n",
       "      <td>0.0</td>\n",
       "      <td>1.0</td>\n",
       "      <td>0.0</td>\n",
       "      <td>0.0</td>\n",
       "      <td>0.0</td>\n",
       "      <td>event_type_cart</td>\n",
       "    </tr>\n",
       "    <tr>\n",
       "      <th>3</th>\n",
       "      <td>2019-10-01 00:00:07 UTC</td>\n",
       "      <td>5723490</td>\n",
       "      <td>1487580005134238553</td>\n",
       "      <td>NaN</td>\n",
       "      <td>runail</td>\n",
       "      <td>2.62</td>\n",
       "      <td>463240011</td>\n",
       "      <td>26dd6e6e-4dac-4778-8d2c-92e149dab885</td>\n",
       "      <td>2019-10-01 00:00:07+00:00</td>\n",
       "      <td>2019-10-01</td>\n",
       "      <td>0.0</td>\n",
       "      <td>1.0</td>\n",
       "      <td>0.0</td>\n",
       "      <td>0.0</td>\n",
       "      <td>0.0</td>\n",
       "      <td>event_type_cart</td>\n",
       "    </tr>\n",
       "    <tr>\n",
       "      <th>4</th>\n",
       "      <td>2019-10-01 00:00:15 UTC</td>\n",
       "      <td>5881449</td>\n",
       "      <td>1487580013522845895</td>\n",
       "      <td>NaN</td>\n",
       "      <td>lovely</td>\n",
       "      <td>0.56</td>\n",
       "      <td>429681830</td>\n",
       "      <td>49e8d843-adf3-428b-a2c3-fe8bc6a307c9</td>\n",
       "      <td>2019-10-01 00:00:15+00:00</td>\n",
       "      <td>2019-10-01</td>\n",
       "      <td>0.0</td>\n",
       "      <td>1.0</td>\n",
       "      <td>0.0</td>\n",
       "      <td>0.0</td>\n",
       "      <td>0.0</td>\n",
       "      <td>event_type_cart</td>\n",
       "    </tr>\n",
       "  </tbody>\n",
       "</table>\n",
       "</div>"
      ],
      "text/plain": [
       "                event_time  product_id          category_id category_code   \n",
       "0  2019-10-01 00:00:00 UTC     5773203  1487580005134238553           NaN  \\\n",
       "1  2019-10-01 00:00:03 UTC     5773353  1487580005134238553           NaN   \n",
       "2  2019-10-01 00:00:07 UTC     5881589  2151191071051219817           NaN   \n",
       "3  2019-10-01 00:00:07 UTC     5723490  1487580005134238553           NaN   \n",
       "4  2019-10-01 00:00:15 UTC     5881449  1487580013522845895           NaN   \n",
       "\n",
       "    brand  price    user_id                          user_session   \n",
       "0  runail   2.62  463240011  26dd6e6e-4dac-4778-8d2c-92e149dab885  \\\n",
       "1  runail   2.62  463240011  26dd6e6e-4dac-4778-8d2c-92e149dab885   \n",
       "2  lovely  13.48  429681830  49e8d843-adf3-428b-a2c3-fe8bc6a307c9   \n",
       "3  runail   2.62  463240011  26dd6e6e-4dac-4778-8d2c-92e149dab885   \n",
       "4  lovely   0.56  429681830  49e8d843-adf3-428b-a2c3-fe8bc6a307c9   \n",
       "\n",
       "                        time        date  sales  event_type_cart   \n",
       "0  2019-10-01 00:00:00+00:00  2019-10-01    0.0              1.0  \\\n",
       "1  2019-10-01 00:00:03+00:00  2019-10-01    0.0              1.0   \n",
       "2  2019-10-01 00:00:07+00:00  2019-10-01    0.0              1.0   \n",
       "3  2019-10-01 00:00:07+00:00  2019-10-01    0.0              1.0   \n",
       "4  2019-10-01 00:00:15+00:00  2019-10-01    0.0              1.0   \n",
       "\n",
       "   event_type_purchase  event_type_remove_from_cart  event_type_view   \n",
       "0                  0.0                          0.0              0.0  \\\n",
       "1                  0.0                          0.0              0.0   \n",
       "2                  0.0                          0.0              0.0   \n",
       "3                  0.0                          0.0              0.0   \n",
       "4                  0.0                          0.0              0.0   \n",
       "\n",
       "        event_type  \n",
       "0  event_type_cart  \n",
       "1  event_type_cart  \n",
       "2  event_type_cart  \n",
       "3  event_type_cart  \n",
       "4  event_type_cart  "
      ]
     },
     "execution_count": 21,
     "metadata": {},
     "output_type": "execute_result"
    }
   ],
   "source": [
    "base_path = os.path.abspath('')\n",
    "\n",
    "events_df = pd.read_csv(f\"{base_path}/Data/events_complete.csv\")\n",
    "event_columns = [i for i in events_df.columns if \"event_type\" in i]\n",
    "events_df[\"event_type\"] = events_df.loc[:, event_columns].idxmax(axis=1)\n",
    "events_df.head()"
   ]
  },
  {
   "cell_type": "code",
   "execution_count": 42,
   "metadata": {},
   "outputs": [
    {
     "data": {
      "text/html": [
       "<div>\n",
       "<style scoped>\n",
       "    .dataframe tbody tr th:only-of-type {\n",
       "        vertical-align: middle;\n",
       "    }\n",
       "\n",
       "    .dataframe tbody tr th {\n",
       "        vertical-align: top;\n",
       "    }\n",
       "\n",
       "    .dataframe thead th {\n",
       "        text-align: right;\n",
       "    }\n",
       "</style>\n",
       "<table border=\"1\" class=\"dataframe\">\n",
       "  <thead>\n",
       "    <tr style=\"text-align: right;\">\n",
       "      <th></th>\n",
       "      <th>columna</th>\n",
       "      <th>porcentaje_faltantes</th>\n",
       "      <th>n_unicos</th>\n",
       "      <th>tipo</th>\n",
       "    </tr>\n",
       "  </thead>\n",
       "  <tbody>\n",
       "    <tr>\n",
       "      <th>0</th>\n",
       "      <td>event_time</td>\n",
       "      <td>0.000000</td>\n",
       "      <td>8782890</td>\n",
       "      <td>timestamp</td>\n",
       "    </tr>\n",
       "    <tr>\n",
       "      <th>1</th>\n",
       "      <td>product_id</td>\n",
       "      <td>0.000000</td>\n",
       "      <td>54571</td>\n",
       "      <td>categorica</td>\n",
       "    </tr>\n",
       "    <tr>\n",
       "      <th>2</th>\n",
       "      <td>category_id</td>\n",
       "      <td>0.000000</td>\n",
       "      <td>525</td>\n",
       "      <td>categorica</td>\n",
       "    </tr>\n",
       "    <tr>\n",
       "      <th>3</th>\n",
       "      <td>category_code</td>\n",
       "      <td>98.291225</td>\n",
       "      <td>12</td>\n",
       "      <td>categorica</td>\n",
       "    </tr>\n",
       "    <tr>\n",
       "      <th>4</th>\n",
       "      <td>brand</td>\n",
       "      <td>42.319551</td>\n",
       "      <td>273</td>\n",
       "      <td>categorica</td>\n",
       "    </tr>\n",
       "    <tr>\n",
       "      <th>5</th>\n",
       "      <td>price</td>\n",
       "      <td>0.000000</td>\n",
       "      <td>2860</td>\n",
       "      <td>float64</td>\n",
       "    </tr>\n",
       "    <tr>\n",
       "      <th>6</th>\n",
       "      <td>user_id</td>\n",
       "      <td>0.000000</td>\n",
       "      <td>1639358</td>\n",
       "      <td>id</td>\n",
       "    </tr>\n",
       "    <tr>\n",
       "      <th>7</th>\n",
       "      <td>user_session</td>\n",
       "      <td>0.022220</td>\n",
       "      <td>4535941</td>\n",
       "      <td>id</td>\n",
       "    </tr>\n",
       "    <tr>\n",
       "      <th>8</th>\n",
       "      <td>event_type</td>\n",
       "      <td>0.000000</td>\n",
       "      <td>4</td>\n",
       "      <td>categorica</td>\n",
       "    </tr>\n",
       "  </tbody>\n",
       "</table>\n",
       "</div>"
      ],
      "text/plain": [
       "         columna  porcentaje_faltantes  n_unicos        tipo\n",
       "0     event_time              0.000000   8782890   timestamp\n",
       "1     product_id              0.000000     54571  categorica\n",
       "2    category_id              0.000000       525  categorica\n",
       "3  category_code             98.291225        12  categorica\n",
       "4          brand             42.319551       273  categorica\n",
       "5          price              0.000000      2860     float64\n",
       "6        user_id              0.000000   1639358          id\n",
       "7   user_session              0.022220   4535941          id\n",
       "8     event_type              0.000000         4  categorica"
      ]
     },
     "execution_count": 42,
     "metadata": {},
     "output_type": "execute_result"
    }
   ],
   "source": [
    "percent_missing = events_df.isnull().sum() * 100 / len(events_df)\n",
    "product_columns_desc = pd.DataFrame({'columna': events_df.columns,\n",
    "                                 'porcentaje_faltantes': percent_missing})\n",
    "product_columns_desc[\"n_unicos\"] = events_df.nunique()\n",
    "product_columns_desc = product_columns_desc.drop(event_columns).drop([\"date\", \"time\", \"sales\"])\n",
    "product_columns_desc[\"tipo\"] = ['timestamp', 'categorica', 'categorica', 'categorica', 'categorica',\n",
    "       'float64', 'id', 'id', 'categorica']\n",
    "product_columns_desc = product_columns_desc.reset_index(drop=True)\n",
    "product_columns_desc"
   ]
  },
  {
   "attachments": {},
   "cell_type": "markdown",
   "metadata": {},
   "source": [
    "## Main variable: Sales"
   ]
  },
  {
   "cell_type": "code",
   "execution_count": 69,
   "metadata": {},
   "outputs": [
    {
     "data": {
      "image/png": "[encoded data removed]",
      "text/plain": [
       "<Figure size 2000x800 with 2 Axes>"
      ]
     },
     "metadata": {},
     "output_type": "display_data"
    }
   ],
   "source": [
    "fig, ax = plt.subplots(2, 1, figsize=(20, 8))\n",
    "sales_by_user_day = events_df.groupby(\"date\").agg({\"sales\":\"sum\", \"user_id\": \"nunique\"}).reset_index()\n",
    "\n",
    "sales_by_user_day['sales_ma7'] = sales_by_user_day['sales'].rolling(7).mean()\n",
    "sales_by_user_day['sales_ma30'] = sales_by_user_day['sales'].rolling(30).mean()\n",
    "\n",
    "sales_by_user_day[\"mean_purchase\"] = sales_by_user_day[\"sales\"] / sales_by_user_day[\"user_id\"]\n",
    "sales_by_user_day['mean_purchase_ma7'] = sales_by_user_day['mean_purchase'].rolling(7).mean()\n",
    "sales_by_user_day['mean_purchase_ma30'] = sales_by_user_day['mean_purchase'].rolling(30).mean()\n",
    "\n",
    "sales_by_user_day_melted = sales_by_user_day.melt('date', var_name='metric', value_name='value')\n",
    "chart_1 = sns.lineplot(sales_by_user_day_melted.loc[sales_by_user_day_melted[\"metric\"].isin([\"sales\", \"sales_ma7\", \"sales_ma30\"])], x=\"date\", y=\"value\", hue=\"metric\", ax=ax[0])\n",
    "chart_2 = sns.lineplot(sales_by_user_day_melted.loc[sales_by_user_day_melted[\"metric\"].isin([\"mean_purchase\", \"mean_purchase_ma7\", \"mean_purchase_ma30\"])], x=\"date\", y=\"value\", hue=\"metric\", ax=ax[1])\n",
    "\n",
    "locator = mdates.DayLocator(interval=14)\n",
    "chart_1.xaxis.set_major_locator(locator)\n",
    "chart_2.xaxis.set_major_locator(locator)"
   ]
  },
  {
   "cell_type": "code",
   "execution_count": 74,
   "metadata": {},
   "outputs": [
    {
     "name": "stderr",
     "output_type": "stream",
     "text": [
      "/var/folders/5f/6fxk1_pj3x7fjyr0gbxq0qhw0000gn/T/ipykernel_65989/2245864903.py:10: UserWarning: Matplotlib is currently using module://matplotlib_inline.backend_inline, which is a non-GUI backend, so cannot show the figure.\n",
      "  fig.show()\n"
     ]
    },
    {
     "data": {
      "image/png": "[encoded data removed]",
      "text/plain": [
       "<Figure size 500x700 with 2 Axes>"
      ]
     },
     "metadata": {},
     "output_type": "display_data"
    }
   ],
   "source": [
    "from matplotlib.collections import PolyCollection\n",
    "my_color = \"red\"\n",
    "\n",
    "fig, ax = plt.subplots(2, figsize=(5,7))\n",
    "plot_acf(x=sales_by_user_day[\"sales\"], lags=30, ax=ax[0], title=\"Autocorrelación de Ventas Diarias\")\n",
    "plot_acf(x=sales_by_user_day[\"mean_purchase\"], lags=30, ax=ax[1], title=\"Autocorrelation of mean sales\", color=my_color, vlines_kwargs={\"colors\": my_color})\n",
    "for item in ax[1].collections:\n",
    "    if type(item)==PolyCollection:\n",
    "        item.set_facecolor(my_color)\n",
    "fig.show()"
   ]
  },
  {
   "attachments": {},
   "cell_type": "markdown",
   "metadata": {},
   "source": [
    "## Categorical variables\n",
    "\n",
    "Análisis de las variables event_type, product_idcategory_id, brand"
   ]
  },
  {
   "cell_type": "code",
   "execution_count": 26,
   "metadata": {},
   "outputs": [
    {
     "data": {
      "text/plain": [
       "Index(['event_time', 'product_id', 'category_id', 'category_code', 'brand',\n",
       "       'price', 'user_id', 'user_session', 'time', 'date', 'sales',\n",
       "       'event_type_cart', 'event_type_purchase', 'event_type_remove_from_cart',\n",
       "       'event_type_view'],\n",
       "      dtype='object')"
      ]
     },
     "execution_count": 26,
     "metadata": {},
     "output_type": "execute_result"
    }
   ],
   "source": [
    "events_df.columns"
   ]
  },
  {
   "attachments": {},
   "cell_type": "markdown",
   "metadata": {},
   "source": [
    "#### event_type"
   ]
  },
  {
   "cell_type": "code",
   "execution_count": 97,
   "metadata": {},
   "outputs": [
    {
     "data": {
      "application/vnd.plotly.v1+json": {
       "config": {
        "plotlyServerURL": "https://plot.ly"
       },
       "data": [
        {
         "hovertemplate": "n_events=%{x}<br>event_type=%{y}<extra></extra>",
         "legendgroup": "",
         "marker": {
          "color": "#636efa"
         },
         "name": "",
         "orientation": "h",
         "showlegend": false,
         "type": "funnel",
         "x": [
          9.66,
          5.77,
          3.98,
          1.29
         ],
         "xaxis": "x",
         "y": [
          "view",
          "cart",
          "remove_from_cart",
          "purchase"
         ],
         "yaxis": "y"
        }
       ],
       "layout": {
        "height": 350,
        "legend": {
         "tracegroupgap": 0
        },
        "margin": {
         "t": 60
        },
        "template": {
         "data": {
          "bar": [
           {
            "error_x": {
             "color": "#2a3f5f"
            },
            "error_y": {
             "color": "#2a3f5f"
            },
            "marker": {
             "line": {
              "color": "#E5ECF6",
              "width": 0.5
             },
             "pattern": {
              "fillmode": "overlay",
              "size": 10,
              "solidity": 0.2
             }
            },
            "type": "bar"
           }
          ],
          "barpolar": [
           {
            "marker": {
             "line": {
              "color": "#E5ECF6",
              "width": 0.5
             },
             "pattern": {
              "fillmode": "overlay",
              "size": 10,
              "solidity": 0.2
             }
            },
            "type": "barpolar"
           }
          ],
          "carpet": [
           {
            "aaxis": {
             "endlinecolor": "#2a3f5f",
             "gridcolor": "white",
             "linecolor": "white",
             "minorgridcolor": "white",
             "startlinecolor": "#2a3f5f"
            },
            "baxis": {
             "endlinecolor": "#2a3f5f",
             "gridcolor": "white",
             "linecolor": "white",
             "minorgridcolor": "white",
             "startlinecolor": "#2a3f5f"
            },
            "type": "carpet"
           }
          ],
          "choropleth": [
           {
            "colorbar": {
             "outlinewidth": 0,
             "ticks": ""
            },
            "type": "choropleth"
           }
          ],
          "contour": [
           {
            "colorbar": {
             "outlinewidth": 0,
             "ticks": ""
            },
            "colorscale": [
             [
              0,
              "#0d0887"
             ],
             [
              0.1111111111111111,
              "#46039f"
             ],
             [
              0.2222222222222222,
              "#7201a8"
             ],
             [
              0.3333333333333333,
              "#9c179e"
             ],
             [
              0.4444444444444444,
              "#bd3786"
             ],
             [
              0.5555555555555556,
              "#d8576b"
             ],
             [
              0.6666666666666666,
              "#ed7953"
             ],
             [
              0.7777777777777778,
              "#fb9f3a"
             ],
             [
              0.8888888888888888,
              "#fdca26"
             ],
             [
              1,
              "#f0f921"
             ]
            ],
            "type": "contour"
           }
          ],
          "contourcarpet": [
           {
            "colorbar": {
             "outlinewidth": 0,
             "ticks": ""
            },
            "type": "contourcarpet"
           }
          ],
          "heatmap": [
           {
            "colorbar": {
             "outlinewidth": 0,
             "ticks": ""
            },
            "colorscale": [
             [
              0,
              "#0d0887"
             ],
             [
              0.1111111111111111,
              "#46039f"
             ],
             [
              0.2222222222222222,
              "#7201a8"
             ],
             [
              0.3333333333333333,
              "#9c179e"
             ],
             [
              0.4444444444444444,
              "#bd3786"
             ],
             [
              0.5555555555555556,
              "#d8576b"
             ],
             [
              0.6666666666666666,
              "#ed7953"
             ],
             [
              0.7777777777777778,
              "#fb9f3a"
             ],
             [
              0.8888888888888888,
              "#fdca26"
             ],
             [
              1,
              "#f0f921"
             ]
            ],
            "type": "heatmap"
           }
          ],
          "heatmapgl": [
           {
            "colorbar": {
             "outlinewidth": 0,
             "ticks": ""
            },
            "colorscale": [
             [
              0,
              "#0d0887"
             ],
             [
              0.1111111111111111,
              "#46039f"
             ],
             [
              0.2222222222222222,
              "#7201a8"
             ],
             [
              0.3333333333333333,
              "#9c179e"
             ],
             [
              0.4444444444444444,
              "#bd3786"
             ],
             [
              0.5555555555555556,
              "#d8576b"
             ],
             [
              0.6666666666666666,
              "#ed7953"
             ],
             [
              0.7777777777777778,
              "#fb9f3a"
             ],
             [
              0.8888888888888888,
              "#fdca26"
             ],
             [
              1,
              "#f0f921"
             ]
            ],
            "type": "heatmapgl"
           }
          ],
          "histogram": [
           {
            "marker": {
             "pattern": {
              "fillmode": "overlay",
              "size": 10,
              "solidity": 0.2
             }
            },
            "type": "histogram"
           }
          ],
          "histogram2d": [
           {
            "colorbar": {
             "outlinewidth": 0,
             "ticks": ""
            },
            "colorscale": [
             [
              0,
              "#0d0887"
             ],
             [
              0.1111111111111111,
              "#46039f"
             ],
             [
              0.2222222222222222,
              "#7201a8"
             ],
             [
              0.3333333333333333,
              "#9c179e"
             ],
             [
              0.4444444444444444,
              "#bd3786"
             ],
             [
              0.5555555555555556,
              "#d8576b"
             ],
             [
              0.6666666666666666,
              "#ed7953"
             ],
             [
              0.7777777777777778,
              "#fb9f3a"
             ],
             [
              0.8888888888888888,
              "#fdca26"
             ],
             [
              1,
              "#f0f921"
             ]
            ],
            "type": "histogram2d"
           }
          ],
          "histogram2dcontour": [
           {
            "colorbar": {
             "outlinewidth": 0,
             "ticks": ""
            },
            "colorscale": [
             [
              0,
              "#0d0887"
             ],
             [
              0.1111111111111111,
              "#46039f"
             ],
             [
              0.2222222222222222,
              "#7201a8"
             ],
             [
              0.3333333333333333,
              "#9c179e"
             ],
             [
              0.4444444444444444,
              "#bd3786"
             ],
             [
              0.5555555555555556,
              "#d8576b"
             ],
             [
              0.6666666666666666,
              "#ed7953"
             ],
             [
              0.7777777777777778,
              "#fb9f3a"
             ],
             [
              0.8888888888888888,
              "#fdca26"
             ],
             [
              1,
              "#f0f921"
             ]
            ],
            "type": "histogram2dcontour"
           }
          ],
          "mesh3d": [
           {
            "colorbar": {
             "outlinewidth": 0,
             "ticks": ""
            },
            "type": "mesh3d"
           }
          ],
          "parcoords": [
           {
            "line": {
             "colorbar": {
              "outlinewidth": 0,
              "ticks": ""
             }
            },
            "type": "parcoords"
           }
          ],
          "pie": [
           {
            "automargin": true,
            "type": "pie"
           }
          ],
          "scatter": [
           {
            "fillpattern": {
             "fillmode": "overlay",
             "size": 10,
             "solidity": 0.2
            },
            "type": "scatter"
           }
          ],
          "scatter3d": [
           {
            "line": {
             "colorbar": {
              "outlinewidth": 0,
              "ticks": ""
             }
            },
            "marker": {
             "colorbar": {
              "outlinewidth": 0,
              "ticks": ""
             }
            },
            "type": "scatter3d"
           }
          ],
          "scattercarpet": [
           {
            "marker": {
             "colorbar": {
              "outlinewidth": 0,
              "ticks": ""
             }
            },
            "type": "scattercarpet"
           }
          ],
          "scattergeo": [
           {
            "marker": {
             "colorbar": {
              "outlinewidth": 0,
              "ticks": ""
             }
            },
            "type": "scattergeo"
           }
          ],
          "scattergl": [
           {
            "marker": {
             "colorbar": {
              "outlinewidth": 0,
              "ticks": ""
             }
            },
            "type": "scattergl"
           }
          ],
          "scattermapbox": [
           {
            "marker": {
             "colorbar": {
              "outlinewidth": 0,
              "ticks": ""
             }
            },
            "type": "scattermapbox"
           }
          ],
          "scatterpolar": [
           {
            "marker": {
             "colorbar": {
              "outlinewidth": 0,
              "ticks": ""
             }
            },
            "type": "scatterpolar"
           }
          ],
          "scatterpolargl": [
           {
            "marker": {
             "colorbar": {
              "outlinewidth": 0,
              "ticks": ""
             }
            },
            "type": "scatterpolargl"
           }
          ],
          "scatterternary": [
           {
            "marker": {
             "colorbar": {
              "outlinewidth": 0,
              "ticks": ""
             }
            },
            "type": "scatterternary"
           }
          ],
          "surface": [
           {
            "colorbar": {
             "outlinewidth": 0,
             "ticks": ""
            },
            "colorscale": [
             [
              0,
              "#0d0887"
             ],
             [
              0.1111111111111111,
              "#46039f"
             ],
             [
              0.2222222222222222,
              "#7201a8"
             ],
             [
              0.3333333333333333,
              "#9c179e"
             ],
             [
              0.4444444444444444,
              "#bd3786"
             ],
             [
              0.5555555555555556,
              "#d8576b"
             ],
             [
              0.6666666666666666,
              "#ed7953"
             ],
             [
              0.7777777777777778,
              "#fb9f3a"
             ],
             [
              0.8888888888888888,
              "#fdca26"
             ],
             [
              1,
              "#f0f921"
             ]
            ],
            "type": "surface"
           }
          ],
          "table": [
           {
            "cells": {
             "fill": {
              "color": "#EBF0F8"
             },
             "line": {
              "color": "white"
             }
            },
            "header": {
             "fill": {
              "color": "#C8D4E3"
             },
             "line": {
              "color": "white"
             }
            },
            "type": "table"
           }
          ]
         },
         "layout": {
          "annotationdefaults": {
           "arrowcolor": "#2a3f5f",
           "arrowhead": 0,
           "arrowwidth": 1
          },
          "autotypenumbers": "strict",
          "coloraxis": {
           "colorbar": {
            "outlinewidth": 0,
            "ticks": ""
           }
          },
          "colorscale": {
           "diverging": [
            [
             0,
             "#8e0152"
            ],
            [
             0.1,
             "#c51b7d"
            ],
            [
             0.2,
             "#de77ae"
            ],
            [
             0.3,
             "#f1b6da"
            ],
            [
             0.4,
             "#fde0ef"
            ],
            [
             0.5,
             "#f7f7f7"
            ],
            [
             0.6,
             "#e6f5d0"
            ],
            [
             0.7,
             "#b8e186"
            ],
            [
             0.8,
             "#7fbc41"
            ],
            [
             0.9,
             "#4d9221"
            ],
            [
             1,
             "#276419"
            ]
           ],
           "sequential": [
            [
             0,
             "#0d0887"
            ],
            [
             0.1111111111111111,
             "#46039f"
            ],
            [
             0.2222222222222222,
             "#7201a8"
            ],
            [
             0.3333333333333333,
             "#9c179e"
            ],
            [
             0.4444444444444444,
             "#bd3786"
            ],
            [
             0.5555555555555556,
             "#d8576b"
            ],
            [
             0.6666666666666666,
             "#ed7953"
            ],
            [
             0.7777777777777778,
             "#fb9f3a"
            ],
            [
             0.8888888888888888,
             "#fdca26"
            ],
            [
             1,
             "#f0f921"
            ]
           ],
           "sequentialminus": [
            [
             0,
             "#0d0887"
            ],
            [
             0.1111111111111111,
             "#46039f"
            ],
            [
             0.2222222222222222,
             "#7201a8"
            ],
            [
             0.3333333333333333,
             "#9c179e"
            ],
            [
             0.4444444444444444,
             "#bd3786"
            ],
            [
             0.5555555555555556,
             "#d8576b"
            ],
            [
             0.6666666666666666,
             "#ed7953"
            ],
            [
             0.7777777777777778,
             "#fb9f3a"
            ],
            [
             0.8888888888888888,
             "#fdca26"
            ],
            [
             1,
             "#f0f921"
            ]
           ]
          },
          "colorway": [
           "#636efa",
           "#EF553B",
           "#00cc96",
           "#ab63fa",
           "#FFA15A",
           "#19d3f3",
           "#FF6692",
           "#B6E880",
           "#FF97FF",
           "#FECB52"
          ],
          "font": {
           "color": "#2a3f5f"
          },
          "geo": {
           "bgcolor": "white",
           "lakecolor": "white",
           "landcolor": "#E5ECF6",
           "showlakes": true,
           "showland": true,
           "subunitcolor": "white"
          },
          "hoverlabel": {
           "align": "left"
          },
          "hovermode": "closest",
          "mapbox": {
           "style": "light"
          },
          "paper_bgcolor": "white",
          "plot_bgcolor": "#E5ECF6",
          "polar": {
           "angularaxis": {
            "gridcolor": "white",
            "linecolor": "white",
            "ticks": ""
           },
           "bgcolor": "#E5ECF6",
           "radialaxis": {
            "gridcolor": "white",
            "linecolor": "white",
            "ticks": ""
           }
          },
          "scene": {
           "xaxis": {
            "backgroundcolor": "#E5ECF6",
            "gridcolor": "white",
            "gridwidth": 2,
            "linecolor": "white",
            "showbackground": true,
            "ticks": "",
            "zerolinecolor": "white"
           },
           "yaxis": {
            "backgroundcolor": "#E5ECF6",
            "gridcolor": "white",
            "gridwidth": 2,
            "linecolor": "white",
            "showbackground": true,
            "ticks": "",
            "zerolinecolor": "white"
           },
           "zaxis": {
            "backgroundcolor": "#E5ECF6",
            "gridcolor": "white",
            "gridwidth": 2,
            "linecolor": "white",
            "showbackground": true,
            "ticks": "",
            "zerolinecolor": "white"
           }
          },
          "shapedefaults": {
           "line": {
            "color": "#2a3f5f"
           }
          },
          "ternary": {
           "aaxis": {
            "gridcolor": "white",
            "linecolor": "white",
            "ticks": ""
           },
           "baxis": {
            "gridcolor": "white",
            "linecolor": "white",
            "ticks": ""
           },
           "bgcolor": "#E5ECF6",
           "caxis": {
            "gridcolor": "white",
            "linecolor": "white",
            "ticks": ""
           }
          },
          "title": {
           "x": 0.05
          },
          "xaxis": {
           "automargin": true,
           "gridcolor": "white",
           "linecolor": "white",
           "ticks": "",
           "title": {
            "standoff": 15
           },
           "zerolinecolor": "white",
           "zerolinewidth": 2
          },
          "yaxis": {
           "automargin": true,
           "gridcolor": "white",
           "linecolor": "white",
           "ticks": "",
           "title": {
            "standoff": 15
           },
           "zerolinecolor": "white",
           "zerolinewidth": 2
          }
         }
        },
        "title": {
         "text": "Numero de Eventos (en millones) por Tipo de Evento",
         "x": 0.5
        },
        "width": 600,
        "xaxis": {
         "anchor": "y",
         "domain": [
          0,
          1
         ],
         "title": {
          "text": "n_events"
         }
        },
        "yaxis": {
         "anchor": "x",
         "domain": [
          0,
          1
         ],
         "title": {
          "text": "event_type"
         }
        }
       }
      }
     },
     "metadata": {},
     "output_type": "display_data"
    }
   ],
   "source": [
    "# TODO: Reduce number of decimals shown\n",
    "funnel_data = events_df.loc[:,[\"event_type_view\", \"event_type_cart\", \"event_type_remove_from_cart\", \"event_type_purchase\"]].sum().reset_index()\n",
    "funnel_data.columns = [\"event_type\", \"n_events\"]\n",
    "funnel_data[\"event_type\"] = funnel_data[\"event_type\"].str.split(\"type_\").str[1]\n",
    "\n",
    "funnel_data[\"n_events\"] = (funnel_data[\"n_events\"] / 1_000_000).round(2)\n",
    "\n",
    "fig = px.funnel(funnel_data, x='n_events', y='event_type')\n",
    "fig.update_layout(title='Numero de Eventos (en millones) por Tipo de Evento', title_x=0.5, width=600, height=350)\n",
    "fig.show()"
   ]
  },
  {
   "attachments": {},
   "cell_type": "markdown",
   "metadata": {},
   "source": [
    "#### product_id"
   ]
  },
  {
   "cell_type": "code",
   "execution_count": 125,
   "metadata": {},
   "outputs": [
    {
     "data": {
      "text/html": [
       "<div>\n",
       "<style scoped>\n",
       "    .dataframe tbody tr th:only-of-type {\n",
       "        vertical-align: middle;\n",
       "    }\n",
       "\n",
       "    .dataframe tbody tr th {\n",
       "        vertical-align: top;\n",
       "    }\n",
       "\n",
       "    .dataframe thead th {\n",
       "        text-align: right;\n",
       "    }\n",
       "</style>\n",
       "<table border=\"1\" class=\"dataframe\">\n",
       "  <thead>\n",
       "    <tr style=\"text-align: right;\">\n",
       "      <th></th>\n",
       "      <th>column_name</th>\n",
       "      <th>percent_missing</th>\n",
       "      <th>nunique</th>\n",
       "    </tr>\n",
       "  </thead>\n",
       "  <tbody>\n",
       "    <tr>\n",
       "      <th>product_id</th>\n",
       "      <td>product_id</td>\n",
       "      <td>0.000000</td>\n",
       "      <td>54571</td>\n",
       "    </tr>\n",
       "    <tr>\n",
       "      <th>category_id</th>\n",
       "      <td>category_id</td>\n",
       "      <td>0.000000</td>\n",
       "      <td>525</td>\n",
       "    </tr>\n",
       "    <tr>\n",
       "      <th>category_code</th>\n",
       "      <td>category_code</td>\n",
       "      <td>98.291225</td>\n",
       "      <td>12</td>\n",
       "    </tr>\n",
       "    <tr>\n",
       "      <th>brand</th>\n",
       "      <td>brand</td>\n",
       "      <td>42.319551</td>\n",
       "      <td>273</td>\n",
       "    </tr>\n",
       "  </tbody>\n",
       "</table>\n",
       "</div>"
      ],
      "text/plain": [
       "                 column_name  percent_missing  nunique\n",
       "product_id        product_id         0.000000    54571\n",
       "category_id      category_id         0.000000      525\n",
       "category_code  category_code        98.291225       12\n",
       "brand                  brand        42.319551      273"
      ]
     },
     "execution_count": 125,
     "metadata": {},
     "output_type": "execute_result"
    }
   ],
   "source": [
    "product_columns = [\"product_id\", \"category_id\", \"category_code\", \"brand\"]\n",
    "\n",
    "percent_missing = events_df.loc[:, product_columns].isnull().sum() * 100 / len(events_df)\n",
    "product_columns_desc = pd.DataFrame({'column_name': product_columns,\n",
    "                                 'percent_missing': percent_missing})\n",
    "product_columns_desc[\"nunique\"] = events_df.loc[:, product_columns].nunique()\n",
    "product_columns_desc"
   ]
  },
  {
   "attachments": {},
   "cell_type": "markdown",
   "metadata": {},
   "source": [
    "category_code is practically null, not useful"
   ]
  },
  {
   "cell_type": "code",
   "execution_count": 152,
   "metadata": {},
   "outputs": [
    {
     "data": {
      "text/plain": [
       "1619"
      ]
     },
     "execution_count": 152,
     "metadata": {},
     "output_type": "execute_result"
    }
   ],
   "source": [
    "counts = events_df.loc[:,['product_id','category_id']].dropna().groupby('product_id')['category_id'].nunique()\n",
    "\n",
    "# Check if every product_id belongs to only one category_id\n",
    "is_unique_category = (counts == 1).all()\n",
    "\n",
    "len(counts[counts!=1])"
   ]
  },
  {
   "cell_type": "code",
   "execution_count": 156,
   "metadata": {},
   "outputs": [
    {
     "data": {
      "text/plain": [
       "24"
      ]
     },
     "execution_count": 156,
     "metadata": {},
     "output_type": "execute_result"
    }
   ],
   "source": [
    "counts = events_df.loc[:,['product_id','brand']].dropna().groupby('product_id')['brand'].nunique()\n",
    "\n",
    "# Check if every product_id belongs to only one category_id\n",
    "is_unique_category = (counts == 1).all()\n",
    "\n",
    "len(counts[counts!=1])"
   ]
  },
  {
   "attachments": {},
   "cell_type": "markdown",
   "metadata": {},
   "source": [
    "There are product_ids with more than one category or brand, although there are many less product_ids with many brands"
   ]
  },
  {
   "cell_type": "code",
   "execution_count": 97,
   "metadata": {},
   "outputs": [
    {
     "data": {
      "text/plain": [
       "Text(0, 0.5, 'Frecuencia')"
      ]
     },
     "execution_count": 97,
     "metadata": {},
     "output_type": "execute_result"
    },
    {
     "data": {
      "image/png": "[encoded data removed]",
      "text/plain": [
       "<Figure size 900x300 with 2 Axes>"
      ]
     },
     "metadata": {},
     "output_type": "display_data"
    }
   ],
   "source": [
    "fig, ax = plt.subplots(1,2, figsize=(9, 3))\n",
    "sns.histplot(events_df.groupby(\"brand\")[\"sales\"].mean(), bins=40, label=f\"Compra media por brand\", ax=ax[0], alpha=0.5)\n",
    "sns.histplot(events_df.groupby(\"brand\")[\"sales\"].count(), bins=40, label=f\"Cantidad de compras por brand\", ax=ax[1], alpha=0.5, color=\"yellow\")\n",
    "\n",
    "ax[0].legend()\n",
    "ax[0].set_xlabel('Compra media ($)')\n",
    "ax[0].set_ylabel('Frecuencia')\n",
    "ax[1].legend()\n",
    "ax[1].set_xlabel('Cantidad de compras')\n",
    "ax[1].set_ylabel('Frecuencia')"
   ]
  },
  {
   "cell_type": "code",
   "execution_count": 96,
   "metadata": {},
   "outputs": [
    {
     "data": {
      "text/plain": [
       "Text(0, 0.5, 'Frecuencia')"
      ]
     },
     "execution_count": 96,
     "metadata": {},
     "output_type": "execute_result"
    },
    {
     "data": {
      "image/png": "[encoded data removed]",
      "text/plain": [
       "<Figure size 900x300 with 2 Axes>"
      ]
     },
     "metadata": {},
     "output_type": "display_data"
    }
   ],
   "source": [
    "fig, ax = plt.subplots(1,2, figsize=(9, 3))\n",
    "sns.histplot(events_df[events_df[\"sales\"]>=0].groupby(\"category_id\")[\"sales\"].mean(), bins=40, label=f\"Compra media por category_id\", ax=ax[0], alpha=0.5)\n",
    "sns.histplot(events_df[events_df[\"sales\"]>=0].groupby(\"category_id\")[\"event_type_purchase\"].sum(), bins=40, label=f\"Cantidad de compras por category_id\", ax=ax[1], alpha=0.5, color=\"yellow\")\n",
    "\n",
    "ax[0].legend()\n",
    "ax[0].set_xlabel('Compra media ($)')\n",
    "ax[0].set_ylabel('Frecuencia')\n",
    "ax[1].legend()\n",
    "ax[1].set_xlabel('Cantidad de compras')\n",
    "ax[1].set_ylabel('Frecuencia')"
   ]
  },
  {
   "attachments": {},
   "cell_type": "markdown",
   "metadata": {},
   "source": [
    "Very skewed, could be used for cuped. catogory_id might be better since it has way less nulls"
   ]
  },
  {
   "attachments": {},
   "cell_type": "markdown",
   "metadata": {},
   "source": [
    "WARNING: We don't have user based categorical features, we could invent them using something like \"main brand/category\" or simulate them. This is if we use user as RU"
   ]
  },
  {
   "attachments": {},
   "cell_type": "markdown",
   "metadata": {},
   "source": [
    "#### Purchase quantity\n",
    "\n",
    "Are every purchase event for just one product? We can check by grouping by session and product_id and see if there are many cases with more than just one line"
   ]
  },
  {
   "cell_type": "code",
   "execution_count": 56,
   "metadata": {},
   "outputs": [
    {
     "data": {
      "text/html": [
       "<div>\n",
       "<style scoped>\n",
       "    .dataframe tbody tr th:only-of-type {\n",
       "        vertical-align: middle;\n",
       "    }\n",
       "\n",
       "    .dataframe tbody tr th {\n",
       "        vertical-align: top;\n",
       "    }\n",
       "\n",
       "    .dataframe thead tr th {\n",
       "        text-align: left;\n",
       "    }\n",
       "</style>\n",
       "<table border=\"1\" class=\"dataframe\">\n",
       "  <thead>\n",
       "    <tr>\n",
       "      <th></th>\n",
       "      <th>user_session</th>\n",
       "      <th>product_id</th>\n",
       "      <th colspan=\"2\" halign=\"left\">sales</th>\n",
       "    </tr>\n",
       "    <tr>\n",
       "      <th></th>\n",
       "      <th></th>\n",
       "      <th></th>\n",
       "      <th>count</th>\n",
       "      <th>sum</th>\n",
       "    </tr>\n",
       "  </thead>\n",
       "  <tbody>\n",
       "    <tr>\n",
       "      <th>368414</th>\n",
       "      <td>49bc852c-cbc7-4d84-9a2c-8144205b571a</td>\n",
       "      <td>5304</td>\n",
       "      <td>9</td>\n",
       "      <td>2.88</td>\n",
       "    </tr>\n",
       "    <tr>\n",
       "      <th>368420</th>\n",
       "      <td>49bc852c-cbc7-4d84-9a2c-8144205b571a</td>\n",
       "      <td>5751422</td>\n",
       "      <td>10</td>\n",
       "      <td>109.50</td>\n",
       "    </tr>\n",
       "    <tr>\n",
       "      <th>368421</th>\n",
       "      <td>49bc852c-cbc7-4d84-9a2c-8144205b571a</td>\n",
       "      <td>5809910</td>\n",
       "      <td>10</td>\n",
       "      <td>52.40</td>\n",
       "    </tr>\n",
       "    <tr>\n",
       "      <th>368422</th>\n",
       "      <td>49bc852c-cbc7-4d84-9a2c-8144205b571a</td>\n",
       "      <td>5809912</td>\n",
       "      <td>9</td>\n",
       "      <td>47.16</td>\n",
       "    </tr>\n",
       "    <tr>\n",
       "      <th>505280</th>\n",
       "      <td>64e9a45a-db0e-4a68-8d64-ada1a26a5b6f</td>\n",
       "      <td>5802432</td>\n",
       "      <td>8</td>\n",
       "      <td>2.56</td>\n",
       "    </tr>\n",
       "    <tr>\n",
       "      <th>1252940</th>\n",
       "      <td>fb5a2f8f-837c-4e50-9b3d-bdcbdc75315e</td>\n",
       "      <td>5778113</td>\n",
       "      <td>9</td>\n",
       "      <td>47.88</td>\n",
       "    </tr>\n",
       "  </tbody>\n",
       "</table>\n",
       "</div>"
      ],
      "text/plain": [
       "                                 user_session product_id sales        \n",
       "                                                         count     sum\n",
       "368414   49bc852c-cbc7-4d84-9a2c-8144205b571a       5304     9    2.88\n",
       "368420   49bc852c-cbc7-4d84-9a2c-8144205b571a    5751422    10  109.50\n",
       "368421   49bc852c-cbc7-4d84-9a2c-8144205b571a    5809910    10   52.40\n",
       "368422   49bc852c-cbc7-4d84-9a2c-8144205b571a    5809912     9   47.16\n",
       "505280   64e9a45a-db0e-4a68-8d64-ada1a26a5b6f    5802432     8    2.56\n",
       "1252940  fb5a2f8f-837c-4e50-9b3d-bdcbdc75315e    5778113     9   47.88"
      ]
     },
     "execution_count": 56,
     "metadata": {},
     "output_type": "execute_result"
    }
   ],
   "source": [
    "counts = events_df.loc[events_df[\"event_type\"]==\"event_type_purchase\"].groupby([\"user_session\", \"product_id\"]).agg({\"sales\":[\"count\", \"sum\"]}).reset_index()\n",
    "counts.loc[counts[(\"sales\", \"count\")]>7]"
   ]
  },
  {
   "cell_type": "code",
   "execution_count": 67,
   "metadata": {},
   "outputs": [
    {
     "data": {
      "text/html": [
       "<div>\n",
       "<style scoped>\n",
       "    .dataframe tbody tr th:only-of-type {\n",
       "        vertical-align: middle;\n",
       "    }\n",
       "\n",
       "    .dataframe tbody tr th {\n",
       "        vertical-align: top;\n",
       "    }\n",
       "\n",
       "    .dataframe thead th {\n",
       "        text-align: right;\n",
       "    }\n",
       "</style>\n",
       "<table border=\"1\" class=\"dataframe\">\n",
       "  <thead>\n",
       "    <tr style=\"text-align: right;\">\n",
       "      <th></th>\n",
       "      <th>event_time</th>\n",
       "      <th>product_id</th>\n",
       "      <th>category_id</th>\n",
       "      <th>category_code</th>\n",
       "      <th>brand</th>\n",
       "      <th>price</th>\n",
       "      <th>user_id</th>\n",
       "      <th>user_session</th>\n",
       "      <th>time</th>\n",
       "      <th>date</th>\n",
       "      <th>sales</th>\n",
       "      <th>event_type_cart</th>\n",
       "      <th>event_type_purchase</th>\n",
       "      <th>event_type_remove_from_cart</th>\n",
       "      <th>event_type_view</th>\n",
       "      <th>event_type</th>\n",
       "    </tr>\n",
       "  </thead>\n",
       "  <tbody>\n",
       "    <tr>\n",
       "      <th>14940543</th>\n",
       "      <td>2020-01-21 09:13:06 UTC</td>\n",
       "      <td>5304</td>\n",
       "      <td>1487580009471148064</td>\n",
       "      <td>NaN</td>\n",
       "      <td>runail</td>\n",
       "      <td>0.32</td>\n",
       "      <td>230818889</td>\n",
       "      <td>49bc852c-cbc7-4d84-9a2c-8144205b571a</td>\n",
       "      <td>2020-01-21 09:13:06+00:00</td>\n",
       "      <td>2020-01-21</td>\n",
       "      <td>0.32</td>\n",
       "      <td>0.0</td>\n",
       "      <td>1.0</td>\n",
       "      <td>0.0</td>\n",
       "      <td>0.0</td>\n",
       "      <td>event_type_purchase</td>\n",
       "    </tr>\n",
       "    <tr>\n",
       "      <th>14941196</th>\n",
       "      <td>2020-01-21 09:17:19 UTC</td>\n",
       "      <td>5304</td>\n",
       "      <td>1487580009471148064</td>\n",
       "      <td>NaN</td>\n",
       "      <td>runail</td>\n",
       "      <td>0.32</td>\n",
       "      <td>230818889</td>\n",
       "      <td>49bc852c-cbc7-4d84-9a2c-8144205b571a</td>\n",
       "      <td>2020-01-21 09:17:19+00:00</td>\n",
       "      <td>2020-01-21</td>\n",
       "      <td>0.32</td>\n",
       "      <td>0.0</td>\n",
       "      <td>1.0</td>\n",
       "      <td>0.0</td>\n",
       "      <td>0.0</td>\n",
       "      <td>event_type_purchase</td>\n",
       "    </tr>\n",
       "    <tr>\n",
       "      <th>14941644</th>\n",
       "      <td>2020-01-21 09:19:54 UTC</td>\n",
       "      <td>5304</td>\n",
       "      <td>1487580009471148064</td>\n",
       "      <td>NaN</td>\n",
       "      <td>runail</td>\n",
       "      <td>0.32</td>\n",
       "      <td>230818889</td>\n",
       "      <td>49bc852c-cbc7-4d84-9a2c-8144205b571a</td>\n",
       "      <td>2020-01-21 09:19:54+00:00</td>\n",
       "      <td>2020-01-21</td>\n",
       "      <td>0.32</td>\n",
       "      <td>0.0</td>\n",
       "      <td>1.0</td>\n",
       "      <td>0.0</td>\n",
       "      <td>0.0</td>\n",
       "      <td>event_type_purchase</td>\n",
       "    </tr>\n",
       "    <tr>\n",
       "      <th>15815861</th>\n",
       "      <td>2020-01-27 12:59:34 UTC</td>\n",
       "      <td>5304</td>\n",
       "      <td>1487580009471148064</td>\n",
       "      <td>NaN</td>\n",
       "      <td>runail</td>\n",
       "      <td>0.32</td>\n",
       "      <td>230818889</td>\n",
       "      <td>49bc852c-cbc7-4d84-9a2c-8144205b571a</td>\n",
       "      <td>2020-01-27 12:59:34+00:00</td>\n",
       "      <td>2020-01-27</td>\n",
       "      <td>0.32</td>\n",
       "      <td>0.0</td>\n",
       "      <td>1.0</td>\n",
       "      <td>0.0</td>\n",
       "      <td>0.0</td>\n",
       "      <td>event_type_purchase</td>\n",
       "    </tr>\n",
       "    <tr>\n",
       "      <th>15816286</th>\n",
       "      <td>2020-01-27 13:01:28 UTC</td>\n",
       "      <td>5304</td>\n",
       "      <td>1487580009471148064</td>\n",
       "      <td>NaN</td>\n",
       "      <td>runail</td>\n",
       "      <td>0.32</td>\n",
       "      <td>230818889</td>\n",
       "      <td>49bc852c-cbc7-4d84-9a2c-8144205b571a</td>\n",
       "      <td>2020-01-27 13:01:28+00:00</td>\n",
       "      <td>2020-01-27</td>\n",
       "      <td>0.32</td>\n",
       "      <td>0.0</td>\n",
       "      <td>1.0</td>\n",
       "      <td>0.0</td>\n",
       "      <td>0.0</td>\n",
       "      <td>event_type_purchase</td>\n",
       "    </tr>\n",
       "    <tr>\n",
       "      <th>15816521</th>\n",
       "      <td>2020-01-27 13:02:31 UTC</td>\n",
       "      <td>5304</td>\n",
       "      <td>1487580009471148064</td>\n",
       "      <td>NaN</td>\n",
       "      <td>runail</td>\n",
       "      <td>0.32</td>\n",
       "      <td>230818889</td>\n",
       "      <td>49bc852c-cbc7-4d84-9a2c-8144205b571a</td>\n",
       "      <td>2020-01-27 13:02:31+00:00</td>\n",
       "      <td>2020-01-27</td>\n",
       "      <td>0.32</td>\n",
       "      <td>0.0</td>\n",
       "      <td>1.0</td>\n",
       "      <td>0.0</td>\n",
       "      <td>0.0</td>\n",
       "      <td>event_type_purchase</td>\n",
       "    </tr>\n",
       "    <tr>\n",
       "      <th>16858292</th>\n",
       "      <td>2020-02-03 06:49:34 UTC</td>\n",
       "      <td>5304</td>\n",
       "      <td>1487580009471148064</td>\n",
       "      <td>NaN</td>\n",
       "      <td>runail</td>\n",
       "      <td>0.32</td>\n",
       "      <td>230818889</td>\n",
       "      <td>49bc852c-cbc7-4d84-9a2c-8144205b571a</td>\n",
       "      <td>2020-02-03 06:49:34+00:00</td>\n",
       "      <td>2020-02-03</td>\n",
       "      <td>0.32</td>\n",
       "      <td>0.0</td>\n",
       "      <td>1.0</td>\n",
       "      <td>0.0</td>\n",
       "      <td>0.0</td>\n",
       "      <td>event_type_purchase</td>\n",
       "    </tr>\n",
       "    <tr>\n",
       "      <th>16858606</th>\n",
       "      <td>2020-02-03 06:51:39 UTC</td>\n",
       "      <td>5304</td>\n",
       "      <td>1487580009471148064</td>\n",
       "      <td>NaN</td>\n",
       "      <td>runail</td>\n",
       "      <td>0.32</td>\n",
       "      <td>230818889</td>\n",
       "      <td>49bc852c-cbc7-4d84-9a2c-8144205b571a</td>\n",
       "      <td>2020-02-03 06:51:39+00:00</td>\n",
       "      <td>2020-02-03</td>\n",
       "      <td>0.32</td>\n",
       "      <td>0.0</td>\n",
       "      <td>1.0</td>\n",
       "      <td>0.0</td>\n",
       "      <td>0.0</td>\n",
       "      <td>event_type_purchase</td>\n",
       "    </tr>\n",
       "    <tr>\n",
       "      <th>16858723</th>\n",
       "      <td>2020-02-03 06:52:36 UTC</td>\n",
       "      <td>5304</td>\n",
       "      <td>1487580009471148064</td>\n",
       "      <td>NaN</td>\n",
       "      <td>runail</td>\n",
       "      <td>0.32</td>\n",
       "      <td>230818889</td>\n",
       "      <td>49bc852c-cbc7-4d84-9a2c-8144205b571a</td>\n",
       "      <td>2020-02-03 06:52:36+00:00</td>\n",
       "      <td>2020-02-03</td>\n",
       "      <td>0.32</td>\n",
       "      <td>0.0</td>\n",
       "      <td>1.0</td>\n",
       "      <td>0.0</td>\n",
       "      <td>0.0</td>\n",
       "      <td>event_type_purchase</td>\n",
       "    </tr>\n",
       "  </tbody>\n",
       "</table>\n",
       "</div>"
      ],
      "text/plain": [
       "                       event_time  product_id          category_id   \n",
       "14940543  2020-01-21 09:13:06 UTC        5304  1487580009471148064  \\\n",
       "14941196  2020-01-21 09:17:19 UTC        5304  1487580009471148064   \n",
       "14941644  2020-01-21 09:19:54 UTC        5304  1487580009471148064   \n",
       "15815861  2020-01-27 12:59:34 UTC        5304  1487580009471148064   \n",
       "15816286  2020-01-27 13:01:28 UTC        5304  1487580009471148064   \n",
       "15816521  2020-01-27 13:02:31 UTC        5304  1487580009471148064   \n",
       "16858292  2020-02-03 06:49:34 UTC        5304  1487580009471148064   \n",
       "16858606  2020-02-03 06:51:39 UTC        5304  1487580009471148064   \n",
       "16858723  2020-02-03 06:52:36 UTC        5304  1487580009471148064   \n",
       "\n",
       "         category_code   brand  price    user_id   \n",
       "14940543           NaN  runail   0.32  230818889  \\\n",
       "14941196           NaN  runail   0.32  230818889   \n",
       "14941644           NaN  runail   0.32  230818889   \n",
       "15815861           NaN  runail   0.32  230818889   \n",
       "15816286           NaN  runail   0.32  230818889   \n",
       "15816521           NaN  runail   0.32  230818889   \n",
       "16858292           NaN  runail   0.32  230818889   \n",
       "16858606           NaN  runail   0.32  230818889   \n",
       "16858723           NaN  runail   0.32  230818889   \n",
       "\n",
       "                                  user_session                       time   \n",
       "14940543  49bc852c-cbc7-4d84-9a2c-8144205b571a  2020-01-21 09:13:06+00:00  \\\n",
       "14941196  49bc852c-cbc7-4d84-9a2c-8144205b571a  2020-01-21 09:17:19+00:00   \n",
       "14941644  49bc852c-cbc7-4d84-9a2c-8144205b571a  2020-01-21 09:19:54+00:00   \n",
       "15815861  49bc852c-cbc7-4d84-9a2c-8144205b571a  2020-01-27 12:59:34+00:00   \n",
       "15816286  49bc852c-cbc7-4d84-9a2c-8144205b571a  2020-01-27 13:01:28+00:00   \n",
       "15816521  49bc852c-cbc7-4d84-9a2c-8144205b571a  2020-01-27 13:02:31+00:00   \n",
       "16858292  49bc852c-cbc7-4d84-9a2c-8144205b571a  2020-02-03 06:49:34+00:00   \n",
       "16858606  49bc852c-cbc7-4d84-9a2c-8144205b571a  2020-02-03 06:51:39+00:00   \n",
       "16858723  49bc852c-cbc7-4d84-9a2c-8144205b571a  2020-02-03 06:52:36+00:00   \n",
       "\n",
       "                date  sales  event_type_cart  event_type_purchase   \n",
       "14940543  2020-01-21   0.32              0.0                  1.0  \\\n",
       "14941196  2020-01-21   0.32              0.0                  1.0   \n",
       "14941644  2020-01-21   0.32              0.0                  1.0   \n",
       "15815861  2020-01-27   0.32              0.0                  1.0   \n",
       "15816286  2020-01-27   0.32              0.0                  1.0   \n",
       "15816521  2020-01-27   0.32              0.0                  1.0   \n",
       "16858292  2020-02-03   0.32              0.0                  1.0   \n",
       "16858606  2020-02-03   0.32              0.0                  1.0   \n",
       "16858723  2020-02-03   0.32              0.0                  1.0   \n",
       "\n",
       "          event_type_remove_from_cart  event_type_view           event_type  \n",
       "14940543                          0.0              0.0  event_type_purchase  \n",
       "14941196                          0.0              0.0  event_type_purchase  \n",
       "14941644                          0.0              0.0  event_type_purchase  \n",
       "15815861                          0.0              0.0  event_type_purchase  \n",
       "15816286                          0.0              0.0  event_type_purchase  \n",
       "15816521                          0.0              0.0  event_type_purchase  \n",
       "16858292                          0.0              0.0  event_type_purchase  \n",
       "16858606                          0.0              0.0  event_type_purchase  \n",
       "16858723                          0.0              0.0  event_type_purchase  "
      ]
     },
     "execution_count": 67,
     "metadata": {},
     "output_type": "execute_result"
    }
   ],
   "source": [
    "events_df.loc[(events_df[\"user_session\"]==\"49bc852c-cbc7-4d84-9a2c-8144205b571a\") & (events_df[\"event_type\"]==\"event_type_purchase\") & (events_df[\"product_id\"]==5304)]"
   ]
  },
  {
   "cell_type": "code",
   "execution_count": null,
   "metadata": {},
   "outputs": [],
   "source": []
  }
 ],
 "metadata": {
  "kernelspec": {
   "display_name": "base",
   "language": "python",
   "name": "python3"
  },
  "language_info": {
   "codemirror_mode": {
    "name": "ipython",
    "version": 3
   },
   "file_extension": ".py",
   "mimetype": "text/x-python",
   "name": "python",
   "nbconvert_exporter": "python",
   "pygments_lexer": "ipython3",
   "version": "3.11.1"
  },
  "orig_nbformat": 4
 },
 "nbformat": 4,
 "nbformat_minor": 2
}
