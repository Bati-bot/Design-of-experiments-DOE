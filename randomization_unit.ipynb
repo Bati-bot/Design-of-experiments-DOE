{
 "cells": [
  {
   "attachments": {},
   "cell_type": "markdown",
   "metadata": {},
   "source": [
    "# Randomization Unit\n",
    "\n",
    "This notebook will compare the chosen user based randomization with two other possibilities: event and session "
   ]
  },
  {
   "cell_type": "code",
   "execution_count": 2,
   "metadata": {},
   "outputs": [],
   "source": [
    "from __future__ import annotations\n",
    "from IPython import get_ipython\n",
    "import os\n",
    "\n",
    "import numpy as np\n",
    "import matplotlib.pyplot as plt\n",
    "import pandas as pd\n",
    "import seaborn as sns\n",
    "get_ipython().run_line_magic('matplotlib', 'inline')\n",
    "\n",
    "from sklearn.linear_model import LinearRegression\n",
    "from statsmodels.stats.power import tt_ind_solve_power"
   ]
  },
  {
   "cell_type": "code",
   "execution_count": 3,
   "metadata": {},
   "outputs": [
    {
     "data": {
      "text/html": [
       "<div>\n",
       "<style scoped>\n",
       "    .dataframe tbody tr th:only-of-type {\n",
       "        vertical-align: middle;\n",
       "    }\n",
       "\n",
       "    .dataframe tbody tr th {\n",
       "        vertical-align: top;\n",
       "    }\n",
       "\n",
       "    .dataframe thead th {\n",
       "        text-align: right;\n",
       "    }\n",
       "</style>\n",
       "<table border=\"1\" class=\"dataframe\">\n",
       "  <thead>\n",
       "    <tr style=\"text-align: right;\">\n",
       "      <th></th>\n",
       "      <th>event_time</th>\n",
       "      <th>product_id</th>\n",
       "      <th>category_id</th>\n",
       "      <th>category_code</th>\n",
       "      <th>brand</th>\n",
       "      <th>price</th>\n",
       "      <th>user_id</th>\n",
       "      <th>user_session</th>\n",
       "      <th>time</th>\n",
       "      <th>date</th>\n",
       "      <th>sales</th>\n",
       "      <th>event_type_cart</th>\n",
       "      <th>event_type_purchase</th>\n",
       "      <th>event_type_remove_from_cart</th>\n",
       "      <th>event_type_view</th>\n",
       "    </tr>\n",
       "  </thead>\n",
       "  <tbody>\n",
       "    <tr>\n",
       "      <th>12271406</th>\n",
       "      <td>2020-01-01 00:00:00 UTC</td>\n",
       "      <td>5809910</td>\n",
       "      <td>1602943681873052386</td>\n",
       "      <td>NaN</td>\n",
       "      <td>grattol</td>\n",
       "      <td>5.24</td>\n",
       "      <td>595414620</td>\n",
       "      <td>4adb70bb-edbd-4981-b60f-a05bfd32683a</td>\n",
       "      <td>2020-01-01 00:00:00+00:00</td>\n",
       "      <td>2020-01-01</td>\n",
       "      <td>0.0</td>\n",
       "      <td>0</td>\n",
       "      <td>0</td>\n",
       "      <td>0</td>\n",
       "      <td>1</td>\n",
       "    </tr>\n",
       "    <tr>\n",
       "      <th>12271407</th>\n",
       "      <td>2020-01-01 00:00:09 UTC</td>\n",
       "      <td>5812943</td>\n",
       "      <td>1487580012121948301</td>\n",
       "      <td>NaN</td>\n",
       "      <td>kinetics</td>\n",
       "      <td>3.97</td>\n",
       "      <td>595414640</td>\n",
       "      <td>c8c5205d-be43-4f1d-aa56-4828b8151c8a</td>\n",
       "      <td>2020-01-01 00:00:09+00:00</td>\n",
       "      <td>2020-01-01</td>\n",
       "      <td>0.0</td>\n",
       "      <td>0</td>\n",
       "      <td>0</td>\n",
       "      <td>0</td>\n",
       "      <td>1</td>\n",
       "    </tr>\n",
       "    <tr>\n",
       "      <th>12271408</th>\n",
       "      <td>2020-01-01 00:00:19 UTC</td>\n",
       "      <td>5798924</td>\n",
       "      <td>1783999068867920626</td>\n",
       "      <td>NaN</td>\n",
       "      <td>zinger</td>\n",
       "      <td>3.97</td>\n",
       "      <td>595412617</td>\n",
       "      <td>46a5010f-bd69-4fbe-a00d-bb17aa7b46f3</td>\n",
       "      <td>2020-01-01 00:00:19+00:00</td>\n",
       "      <td>2020-01-01</td>\n",
       "      <td>0.0</td>\n",
       "      <td>0</td>\n",
       "      <td>0</td>\n",
       "      <td>0</td>\n",
       "      <td>1</td>\n",
       "    </tr>\n",
       "    <tr>\n",
       "      <th>12271409</th>\n",
       "      <td>2020-01-01 00:00:24 UTC</td>\n",
       "      <td>5793052</td>\n",
       "      <td>1487580005754995573</td>\n",
       "      <td>NaN</td>\n",
       "      <td>NaN</td>\n",
       "      <td>4.92</td>\n",
       "      <td>420652863</td>\n",
       "      <td>546f6af3-a517-4752-a98b-80c4c5860711</td>\n",
       "      <td>2020-01-01 00:00:24+00:00</td>\n",
       "      <td>2020-01-01</td>\n",
       "      <td>0.0</td>\n",
       "      <td>0</td>\n",
       "      <td>0</td>\n",
       "      <td>0</td>\n",
       "      <td>1</td>\n",
       "    </tr>\n",
       "    <tr>\n",
       "      <th>12271410</th>\n",
       "      <td>2020-01-01 00:00:25 UTC</td>\n",
       "      <td>5899926</td>\n",
       "      <td>2115334439910245200</td>\n",
       "      <td>NaN</td>\n",
       "      <td>NaN</td>\n",
       "      <td>3.92</td>\n",
       "      <td>484071203</td>\n",
       "      <td>cff70ddf-529e-4b0c-a4fc-f43a749c0acb</td>\n",
       "      <td>2020-01-01 00:00:25+00:00</td>\n",
       "      <td>2020-01-01</td>\n",
       "      <td>0.0</td>\n",
       "      <td>0</td>\n",
       "      <td>0</td>\n",
       "      <td>0</td>\n",
       "      <td>1</td>\n",
       "    </tr>\n",
       "  </tbody>\n",
       "</table>\n",
       "</div>"
      ],
      "text/plain": [
       "                       event_time  product_id          category_id   \n",
       "12271406  2020-01-01 00:00:00 UTC     5809910  1602943681873052386  \\\n",
       "12271407  2020-01-01 00:00:09 UTC     5812943  1487580012121948301   \n",
       "12271408  2020-01-01 00:00:19 UTC     5798924  1783999068867920626   \n",
       "12271409  2020-01-01 00:00:24 UTC     5793052  1487580005754995573   \n",
       "12271410  2020-01-01 00:00:25 UTC     5899926  2115334439910245200   \n",
       "\n",
       "         category_code     brand  price    user_id   \n",
       "12271406           NaN   grattol   5.24  595414620  \\\n",
       "12271407           NaN  kinetics   3.97  595414640   \n",
       "12271408           NaN    zinger   3.97  595412617   \n",
       "12271409           NaN       NaN   4.92  420652863   \n",
       "12271410           NaN       NaN   3.92  484071203   \n",
       "\n",
       "                                  user_session                       time   \n",
       "12271406  4adb70bb-edbd-4981-b60f-a05bfd32683a  2020-01-01 00:00:00+00:00  \\\n",
       "12271407  c8c5205d-be43-4f1d-aa56-4828b8151c8a  2020-01-01 00:00:09+00:00   \n",
       "12271408  46a5010f-bd69-4fbe-a00d-bb17aa7b46f3  2020-01-01 00:00:19+00:00   \n",
       "12271409  546f6af3-a517-4752-a98b-80c4c5860711  2020-01-01 00:00:24+00:00   \n",
       "12271410  cff70ddf-529e-4b0c-a4fc-f43a749c0acb  2020-01-01 00:00:25+00:00   \n",
       "\n",
       "                date  sales  event_type_cart  event_type_purchase   \n",
       "12271406  2020-01-01    0.0                0                    0  \\\n",
       "12271407  2020-01-01    0.0                0                    0   \n",
       "12271408  2020-01-01    0.0                0                    0   \n",
       "12271409  2020-01-01    0.0                0                    0   \n",
       "12271410  2020-01-01    0.0                0                    0   \n",
       "\n",
       "          event_type_remove_from_cart  event_type_view  \n",
       "12271406                            0                1  \n",
       "12271407                            0                1  \n",
       "12271408                            0                1  \n",
       "12271409                            0                1  \n",
       "12271410                            0                1  "
      ]
     },
     "execution_count": 3,
     "metadata": {},
     "output_type": "execute_result"
    }
   ],
   "source": [
    "base_path = os.path.abspath('')\n",
    "\n",
    "events_df = pd.read_csv(f\"{base_path}/Data/events_complete.csv\")\n",
    "events_df = events_df[(events_df[\"date\"]).between(\"2020-01-01\", \"2020-02-31\")]\n",
    "\n",
    "events_df.replace({True: 1, False: 0}, inplace=True)\n",
    "events_df.head()"
   ]
  },
  {
   "attachments": {},
   "cell_type": "markdown",
   "metadata": {},
   "source": [
    "Plot the distributions of events/sessions per user and the convertions (has_purchase) vs that"
   ]
  },
  {
   "cell_type": "code",
   "execution_count": 4,
   "metadata": {},
   "outputs": [
    {
     "data": {
      "text/plain": [
       "505790"
      ]
     },
     "execution_count": 4,
     "metadata": {},
     "output_type": "execute_result"
    }
   ],
   "source": [
    "events_df[\"event_type_purchase\"].sum()"
   ]
  },
  {
   "cell_type": "code",
   "execution_count": 5,
   "metadata": {},
   "outputs": [
    {
     "data": {
      "text/plain": [
       "1891452"
      ]
     },
     "execution_count": 5,
     "metadata": {},
     "output_type": "execute_result"
    }
   ],
   "source": [
    "events_df[\"user_session\"].nunique()"
   ]
  },
  {
   "cell_type": "code",
   "execution_count": 6,
   "metadata": {},
   "outputs": [
    {
     "data": {
      "text/plain": [
       "0.26740831911145513"
      ]
     },
     "execution_count": 6,
     "metadata": {},
     "output_type": "execute_result"
    }
   ],
   "source": [
    "events_df[\"event_type_purchase\"].sum() / events_df[\"user_session\"].nunique()"
   ]
  },
  {
   "cell_type": "code",
   "execution_count": 8,
   "metadata": {},
   "outputs": [
    {
     "data": {
      "text/plain": [
       "0.6861956361001936"
      ]
     },
     "execution_count": 8,
     "metadata": {},
     "output_type": "execute_result"
    }
   ],
   "source": [
    "events_df[\"event_type_purchase\"].sum() / events_df[\"user_id\"].nunique()"
   ]
  },
  {
   "cell_type": "code",
   "execution_count": 14,
   "metadata": {},
   "outputs": [
    {
     "data": {
      "text/html": [
       "<div>\n",
       "<style scoped>\n",
       "    .dataframe tbody tr th:only-of-type {\n",
       "        vertical-align: middle;\n",
       "    }\n",
       "\n",
       "    .dataframe tbody tr th {\n",
       "        vertical-align: top;\n",
       "    }\n",
       "\n",
       "    .dataframe thead th {\n",
       "        text-align: right;\n",
       "    }\n",
       "</style>\n",
       "<table border=\"1\" class=\"dataframe\">\n",
       "  <thead>\n",
       "    <tr style=\"text-align: right;\">\n",
       "      <th></th>\n",
       "      <th>user_id</th>\n",
       "      <th>events</th>\n",
       "      <th>sessions</th>\n",
       "      <th>n_purchases</th>\n",
       "    </tr>\n",
       "  </thead>\n",
       "  <tbody>\n",
       "    <tr>\n",
       "      <th>0</th>\n",
       "      <td>465496</td>\n",
       "      <td>3</td>\n",
       "      <td>2</td>\n",
       "      <td>0</td>\n",
       "    </tr>\n",
       "    <tr>\n",
       "      <th>1</th>\n",
       "      <td>2038666</td>\n",
       "      <td>1</td>\n",
       "      <td>1</td>\n",
       "      <td>0</td>\n",
       "    </tr>\n",
       "    <tr>\n",
       "      <th>2</th>\n",
       "      <td>3571443</td>\n",
       "      <td>2</td>\n",
       "      <td>1</td>\n",
       "      <td>0</td>\n",
       "    </tr>\n",
       "    <tr>\n",
       "      <th>3</th>\n",
       "      <td>4230352</td>\n",
       "      <td>1</td>\n",
       "      <td>1</td>\n",
       "      <td>0</td>\n",
       "    </tr>\n",
       "    <tr>\n",
       "      <th>4</th>\n",
       "      <td>4661182</td>\n",
       "      <td>20</td>\n",
       "      <td>6</td>\n",
       "      <td>0</td>\n",
       "    </tr>\n",
       "    <tr>\n",
       "      <th>...</th>\n",
       "      <td>...</td>\n",
       "      <td>...</td>\n",
       "      <td>...</td>\n",
       "      <td>...</td>\n",
       "    </tr>\n",
       "    <tr>\n",
       "      <th>737088</th>\n",
       "      <td>622090016</td>\n",
       "      <td>2</td>\n",
       "      <td>2</td>\n",
       "      <td>0</td>\n",
       "    </tr>\n",
       "    <tr>\n",
       "      <th>737089</th>\n",
       "      <td>622090043</td>\n",
       "      <td>3</td>\n",
       "      <td>1</td>\n",
       "      <td>0</td>\n",
       "    </tr>\n",
       "    <tr>\n",
       "      <th>737090</th>\n",
       "      <td>622090052</td>\n",
       "      <td>2</td>\n",
       "      <td>2</td>\n",
       "      <td>0</td>\n",
       "    </tr>\n",
       "    <tr>\n",
       "      <th>737091</th>\n",
       "      <td>622090098</td>\n",
       "      <td>1</td>\n",
       "      <td>1</td>\n",
       "      <td>0</td>\n",
       "    </tr>\n",
       "    <tr>\n",
       "      <th>737092</th>\n",
       "      <td>622090237</td>\n",
       "      <td>1</td>\n",
       "      <td>1</td>\n",
       "      <td>0</td>\n",
       "    </tr>\n",
       "  </tbody>\n",
       "</table>\n",
       "<p>737093 rows × 4 columns</p>\n",
       "</div>"
      ],
      "text/plain": [
       "          user_id  events  sessions  n_purchases\n",
       "0          465496       3         2            0\n",
       "1         2038666       1         1            0\n",
       "2         3571443       2         1            0\n",
       "3         4230352       1         1            0\n",
       "4         4661182      20         6            0\n",
       "...           ...     ...       ...          ...\n",
       "737088  622090016       2         2            0\n",
       "737089  622090043       3         1            0\n",
       "737090  622090052       2         2            0\n",
       "737091  622090098       1         1            0\n",
       "737092  622090237       1         1            0\n",
       "\n",
       "[737093 rows x 4 columns]"
      ]
     },
     "execution_count": 14,
     "metadata": {},
     "output_type": "execute_result"
    }
   ],
   "source": [
    "agg_ussers = (\n",
    "    events_df\n",
    "    .groupby(\"user_id\")\n",
    "    .agg({\n",
    "        \"product_id\":   \"count\",\n",
    "        \"user_session\": \"nunique\",\n",
    "        \"event_type_purchase\": \"sum\",\n",
    "    })\n",
    ").reset_index()\n",
    "\n",
    "agg_ussers.columns = [\"user_id\", \"events\", \"sessions\", \"n_purchases\"]\n",
    "agg_ussers"
   ]
  },
  {
   "cell_type": "code",
   "execution_count": 28,
   "metadata": {},
   "outputs": [
    {
     "name": "stderr",
     "output_type": "stream",
     "text": [
      "No artists with labels found to put in legend.  Note that artists whose label start with an underscore are ignored when legend() is called with no argument.\n"
     ]
    },
    {
     "data": {
      "text/plain": [
       "<matplotlib.legend.Legend at 0x15742cd90>"
      ]
     },
     "execution_count": 28,
     "metadata": {},
     "output_type": "execute_result"
    },
    {
     "data": {
      "image/png": "[encoded data removed]",
      "text/plain": [
       "<Figure size 1000x500 with 2 Axes>"
      ]
     },
     "metadata": {},
     "output_type": "display_data"
    }
   ],
   "source": [
    "sessions_per_user = (\n",
    "    agg_ussers\n",
    "    .groupby(\"sessions\")\n",
    "    .agg({\n",
    "        \"user_id\":      \"count\",\n",
    "        \"n_purchases\":  \"sum\",\n",
    "    })\n",
    ").reset_index()\n",
    "sessions_per_user.columns = [\"sessions\", \"users\", \"n_purchases\"]\n",
    "sessions_per_user[\"purchases_per_user\"] = sessions_per_user[\"n_purchases\"] / sessions_per_user[\"users\"]\n",
    "sessions_per_user[\"session_conversions\"] = sessions_per_user[\"purchases_per_user\"] / sessions_per_user[\"sessions\"]\n",
    "sessions_per_user['session_conversions_ma'] = sessions_per_user['session_conversions'].rolling(10).mean()\n",
    "\n",
    "\n",
    "fig, ax = plt.subplots(1,2, figsize=(10, 5))\n",
    "sns.lineplot(sessions_per_user[sessions_per_user[\"sessions\"].between(1,100)], x=\"sessions\", y=\"users\", ax=ax[0], alpha=0.8)\n",
    "sns.lineplot(sessions_per_user[sessions_per_user[\"sessions\"].between(1,100)], x=\"sessions\", y=\"session_conversions\", ax=ax[1], alpha=0.8)\n",
    "sns.lineplot(sessions_per_user[sessions_per_user[\"sessions\"].between(1,100)], x=\"sessions\", y=\"session_conversions_ma\", ax=ax[1], alpha=0.8)\n",
    "\n",
    "ax[0].legend()"
   ]
  }
 ],
 "metadata": {
  "kernelspec": {
   "display_name": "venv",
   "language": "python",
   "name": "python3"
  },
  "language_info": {
   "codemirror_mode": {
    "name": "ipython",
    "version": 3
   },
   "file_extension": ".py",
   "mimetype": "text/x-python",
   "name": "python",
   "nbconvert_exporter": "python",
   "pygments_lexer": "ipython3",
   "version": "3.11.1"
  },
  "orig_nbformat": 4
 },
 "nbformat": 4,
 "nbformat_minor": 2
}
